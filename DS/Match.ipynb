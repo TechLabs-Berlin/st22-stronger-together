{
 "cells": [
  {
   "cell_type": "code",
   "execution_count": 1,
   "id": "24c4f70f",
   "metadata": {},
   "outputs": [],
   "source": [
    "import pandas as pd\n",
    "import random\n",
    "import numpy as np\n",
    "from ast import literal_eval\n",
    "\n",
    "from sklearn.preprocessing import MultiLabelBinarizer\n",
    "from sklearn.linear_model import LinearRegression, LogisticRegression, Ridge, Lasso\n",
    "from sklearn.model_selection import train_test_split\n",
    "from sklearn.preprocessing import MultiLabelBinarizer\n",
    "\n",
    "from sklearn.svm import SVC"
   ]
  },
  {
   "cell_type": "code",
   "execution_count": 2,
   "id": "e4f6a5e3",
   "metadata": {},
   "outputs": [],
   "source": [
    "df = pd.read_table('data_with_matches.csv', sep=',', converters={\"languages\": literal_eval, \"matches\": literal_eval})\n",
    "mlb = MultiLabelBinarizer()\n",
    "\n",
    "# Combine languages and help_type\n",
    "df['features'] = [a+[b] for a,b in zip(df['languages'],df['help_type'])]\n",
    "\n",
    "# Spread features into columns with binary values\n",
    "df_feature_separate = pd.DataFrame(mlb.fit_transform(df['features']),columns=mlb.classes_, index=df.index)\n",
    "for feature_col in df_feature_separate:\n",
    "    df[feature_col] = df_feature_separate[feature_col]\n",
    "# save it to pass right columns to split\n",
    "feature_classes = mlb.classes_\n",
    "\n",
    "# # # missing 'help_type', 'interests'\n",
    "# # # need to change those + matches into some integers\n",
    "\n",
    "X = df[['intent', *feature_classes]]\n",
    "y = pd.DataFrame(MultiLabelBinarizer().fit_transform(df['matches']))\n",
    "\n",
    "X_train, X_test, y_train, y_test = train_test_split(X, y, random_state=0)\n"
   ]
  },
  {
   "cell_type": "code",
   "execution_count": 3,
   "id": "082ac7ae",
   "metadata": {},
   "outputs": [
    {
     "data": {
      "text/plain": [
       "0.35617171333470393"
      ]
     },
     "execution_count": 3,
     "metadata": {},
     "output_type": "execute_result"
    }
   ],
   "source": [
    "model = LinearRegression()\n",
    "model.fit(X_train, y_train)\n",
    "# model.coef_\n",
    "# model.score(X_test, y_test)\n",
    "\n",
    "prediction = model.predict([[1, 1, 1, 0, 0, 0, 1, 0, 0, 0, 0]])\n",
    "scores = list(enumerate(prediction[0]))\n",
    "sorted_scores = sorted(scores, key = lambda x:x[1], reverse = True)\n",
    "\n",
    "model.score(X_test, y_test)\n",
    "# sorted_scores[0:20]"
   ]
  },
  {
   "cell_type": "code",
   "execution_count": null,
   "id": "95c39387",
   "metadata": {},
   "outputs": [],
   "source": []
  },
  {
   "cell_type": "code",
   "execution_count": 4,
   "id": "7e1dbffb",
   "metadata": {},
   "outputs": [
    {
     "data": {
      "text/html": [
       "<div>\n",
       "<style scoped>\n",
       "    .dataframe tbody tr th:only-of-type {\n",
       "        vertical-align: middle;\n",
       "    }\n",
       "\n",
       "    .dataframe tbody tr th {\n",
       "        vertical-align: top;\n",
       "    }\n",
       "\n",
       "    .dataframe thead th {\n",
       "        text-align: right;\n",
       "    }\n",
       "</style>\n",
       "<table border=\"1\" class=\"dataframe\">\n",
       "  <thead>\n",
       "    <tr style=\"text-align: right;\">\n",
       "      <th></th>\n",
       "      <th>id</th>\n",
       "      <th>age</th>\n",
       "      <th>interests</th>\n",
       "      <th>languages</th>\n",
       "      <th>intent</th>\n",
       "      <th>help_type</th>\n",
       "      <th>matches</th>\n",
       "      <th>features</th>\n",
       "      <th>advice</th>\n",
       "      <th>english</th>\n",
       "      <th>forum</th>\n",
       "      <th>german</th>\n",
       "      <th>hangouts</th>\n",
       "      <th>market place</th>\n",
       "      <th>meet people</th>\n",
       "      <th>russian</th>\n",
       "      <th>things to do</th>\n",
       "      <th>ukrainian</th>\n",
       "    </tr>\n",
       "  </thead>\n",
       "  <tbody>\n",
       "    <tr>\n",
       "      <th>0</th>\n",
       "      <td>0</td>\n",
       "      <td>59</td>\n",
       "      <td>art</td>\n",
       "      <td>[english, russian, ukrainian]</td>\n",
       "      <td>1</td>\n",
       "      <td>market place</td>\n",
       "      <td>[5, 27, 94, 99, 114, 129, 137, 173, 176, 197, ...</td>\n",
       "      <td>[english, russian, ukrainian, market place]</td>\n",
       "      <td>0</td>\n",
       "      <td>1</td>\n",
       "      <td>0</td>\n",
       "      <td>0</td>\n",
       "      <td>0</td>\n",
       "      <td>1</td>\n",
       "      <td>0</td>\n",
       "      <td>1</td>\n",
       "      <td>0</td>\n",
       "      <td>1</td>\n",
       "    </tr>\n",
       "    <tr>\n",
       "      <th>10</th>\n",
       "      <td>10</td>\n",
       "      <td>82</td>\n",
       "      <td>literature</td>\n",
       "      <td>[german, english]</td>\n",
       "      <td>1</td>\n",
       "      <td>advice</td>\n",
       "      <td>[11, 46, 60, 74, 100, 127, 128, 130, 152, 162,...</td>\n",
       "      <td>[german, english, advice]</td>\n",
       "      <td>1</td>\n",
       "      <td>1</td>\n",
       "      <td>0</td>\n",
       "      <td>1</td>\n",
       "      <td>0</td>\n",
       "      <td>0</td>\n",
       "      <td>0</td>\n",
       "      <td>0</td>\n",
       "      <td>0</td>\n",
       "      <td>0</td>\n",
       "    </tr>\n",
       "  </tbody>\n",
       "</table>\n",
       "</div>"
      ],
      "text/plain": [
       "    id  age   interests                      languages  intent     help_type  \\\n",
       "0    0   59         art  [english, russian, ukrainian]       1  market place   \n",
       "10  10   82  literature              [german, english]       1        advice   \n",
       "\n",
       "                                              matches  \\\n",
       "0   [5, 27, 94, 99, 114, 129, 137, 173, 176, 197, ...   \n",
       "10  [11, 46, 60, 74, 100, 127, 128, 130, 152, 162,...   \n",
       "\n",
       "                                       features  advice  english  forum  \\\n",
       "0   [english, russian, ukrainian, market place]       0        1      0   \n",
       "10                    [german, english, advice]       1        1      0   \n",
       "\n",
       "    german  hangouts  market place  meet people  russian  things to do  \\\n",
       "0        0         0             1            0        1             0   \n",
       "10       1         0             0            0        0             0   \n",
       "\n",
       "    ukrainian  \n",
       "0           1  \n",
       "10          0  "
      ]
     },
     "execution_count": 4,
     "metadata": {},
     "output_type": "execute_result"
    }
   ],
   "source": [
    "df.loc[[0,10]]"
   ]
  },
  {
   "cell_type": "code",
   "execution_count": null,
   "id": "dde754db",
   "metadata": {},
   "outputs": [],
   "source": []
  }
 ],
 "metadata": {
  "kernelspec": {
   "display_name": "Python 3 (ipykernel)",
   "language": "python",
   "name": "python3"
  },
  "language_info": {
   "codemirror_mode": {
    "name": "ipython",
    "version": 3
   },
   "file_extension": ".py",
   "mimetype": "text/x-python",
   "name": "python",
   "nbconvert_exporter": "python",
   "pygments_lexer": "ipython3",
   "version": "3.9.7"
  }
 },
 "nbformat": 4,
 "nbformat_minor": 5
}
