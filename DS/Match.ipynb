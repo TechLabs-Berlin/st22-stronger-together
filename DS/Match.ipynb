{
 "cells": [
  {
   "cell_type": "code",
   "execution_count": 25,
   "id": "72ceb039",
   "metadata": {},
   "outputs": [],
   "source": [
    "import pandas as pd\n",
    "import random\n",
    "import numpy as np\n",
    "from ast import literal_eval\n",
    "\n",
    "from sklearn.preprocessing import MultiLabelBinarizer\n",
    "from sklearn.linear_model import LinearRegression, LogisticRegression, Ridge, Lasso\n",
    "from sklearn.model_selection import train_test_split\n",
    "from sklearn.preprocessing import MultiLabelBinarizer\n",
    "\n",
    "from sklearn.svm import SVC"
   ]
  },
  {
   "cell_type": "code",
   "execution_count": 2,
   "id": "64d624cd",
   "metadata": {},
   "outputs": [],
   "source": [
    "df = pd.read_table('data_with_matches.csv', sep=',', converters={\"languages\": literal_eval, \"matches\": literal_eval})\n",
    "mlb = MultiLabelBinarizer()\n",
    "\n",
    "# Spread languages into columns with binary values\n",
    "df_langs_separate = pd.DataFrame(mlb.fit_transform(df['languages']),columns=mlb.classes_, index=df.index)\n",
    "for lang_col in df_langs_separate:\n",
    "    df[lang_col] = df_langs_separate[lang_col]\n",
    "# save it to pass right columns to split\n",
    "lang_classes = mlb.classes_\n",
    "\n",
    "# mlb2 = MultiLabelBinarizer()\n",
    "# df_interests_separate = pd.DataFrame(mlb.fit_transform(df['interests']),columns=mlb2.classes_, index=df.index)\n",
    "# for lang_col in df_langs_separate:\n",
    "#     df[lang_col] = df_langs_separate[lang_col]\n",
    "# # save it to pass right columns to split\n",
    "# interests_classes = mlb2.classes_\n",
    "\n",
    "\n",
    "\n",
    "# missing 'help_type', 'interests'\n",
    "# need to change those + matches into some integers\n",
    "\n",
    "X = df[['age', 'intent', *lang_classes]]\n",
    "y = pd.DataFrame(MultiLabelBinarizer().fit_transform(df['matches']))\n",
    "\n",
    "X_train, X_test, y_train, y_test = train_test_split(X, y, random_state=0)\n"
   ]
  },
  {
   "cell_type": "code",
   "execution_count": 23,
   "id": "4b7ce8ce",
   "metadata": {},
   "outputs": [
    {
     "data": {
      "text/plain": [
       "[(57, 0.3685699757426764),\n",
       " (79, 0.3685699757426764),\n",
       " (1, 0.29298837992628557),\n",
       " (83, 0.29298837992628557),\n",
       " (90, 0.29298837992628557),\n",
       " (55, 0.21691725043052618),\n",
       " (24, 0.18147021639807406),\n",
       " (93, 0.18147021639807406),\n",
       " (91, 0.17808328286837427),\n",
       " (47, 0.17566718402690956)]"
      ]
     },
     "execution_count": 23,
     "metadata": {},
     "output_type": "execute_result"
    }
   ],
   "source": [
    "model = LinearRegression()\n",
    "model.fit(X_train, y_train)\n",
    "# model.coef_\n",
    "# model.score(X_test, y_test)\n",
    "\n",
    "# expect [1, 61, 83, 87, 94] or something similar since it's the data from row 0\n",
    "prediction = model.predict([[25, 1, 1, 1, 0, 0]])\n",
    "scores = list(enumerate(prediction[0]))\n",
    "sorted_scores = sorted(scores, key = lambda x:x[1], reverse = True)\n",
    "\n",
    "sorted_scores[0:10]"
   ]
  },
  {
   "cell_type": "code",
   "execution_count": 30,
   "id": "2220b54f",
   "metadata": {},
   "outputs": [
    {
     "data": {
      "text/plain": [
       "[(57, 0.36162064312441766),\n",
       " (79, 0.36162064312441766),\n",
       " (1, 0.28338127455902246),\n",
       " (83, 0.28338127455902246),\n",
       " (90, 0.28338127455902246),\n",
       " (55, 0.21822181827742065),\n",
       " (91, 0.1824643498670238),\n",
       " (24, 0.17769316792728154),\n",
       " (93, 0.17769316792728154),\n",
       " (52, 0.17651004185147626)]"
      ]
     },
     "execution_count": 30,
     "metadata": {},
     "output_type": "execute_result"
    }
   ],
   "source": [
    "model = Ridge()\n",
    "model.fit(X_train, y_train)\n",
    "# model.coef_\n",
    "# model.score(X_test, y_test)\n",
    "\n",
    "# expect [1, 61, 83, 87, 94] or something similar since it's the data from row 0\n",
    "prediction = model.predict([[25, 1, 1, 1, 0, 0]])\n",
    "scores = list(enumerate(prediction[0]))\n",
    "sorted_scores = sorted(scores, key = lambda x:x[1], reverse = True)\n",
    "\n",
    "sorted_scores[0:10]"
   ]
  },
  {
   "cell_type": "code",
   "execution_count": 21,
   "id": "026a719d",
   "metadata": {},
   "outputs": [
    {
     "data": {
      "text/html": [
       "<div>\n",
       "<style scoped>\n",
       "    .dataframe tbody tr th:only-of-type {\n",
       "        vertical-align: middle;\n",
       "    }\n",
       "\n",
       "    .dataframe tbody tr th {\n",
       "        vertical-align: top;\n",
       "    }\n",
       "\n",
       "    .dataframe thead th {\n",
       "        text-align: right;\n",
       "    }\n",
       "</style>\n",
       "<table border=\"1\" class=\"dataframe\">\n",
       "  <thead>\n",
       "    <tr style=\"text-align: right;\">\n",
       "      <th></th>\n",
       "      <th>id</th>\n",
       "      <th>age</th>\n",
       "      <th>interests</th>\n",
       "      <th>languages</th>\n",
       "      <th>intent</th>\n",
       "      <th>help_type</th>\n",
       "      <th>matches</th>\n",
       "      <th>english</th>\n",
       "      <th>german</th>\n",
       "      <th>russian</th>\n",
       "      <th>ukrainian</th>\n",
       "    </tr>\n",
       "  </thead>\n",
       "  <tbody>\n",
       "    <tr>\n",
       "      <th>0</th>\n",
       "      <td>0</td>\n",
       "      <td>25</td>\n",
       "      <td>games</td>\n",
       "      <td>[german, english]</td>\n",
       "      <td>1</td>\n",
       "      <td>market place</td>\n",
       "      <td>[1, 61, 83, 87, 94]</td>\n",
       "      <td>1</td>\n",
       "      <td>1</td>\n",
       "      <td>0</td>\n",
       "      <td>0</td>\n",
       "    </tr>\n",
       "    <tr>\n",
       "      <th>57</th>\n",
       "      <td>57</td>\n",
       "      <td>31</td>\n",
       "      <td>literature</td>\n",
       "      <td>[russian, ukrainian]</td>\n",
       "      <td>0</td>\n",
       "      <td>things to do</td>\n",
       "      <td>[73, 82]</td>\n",
       "      <td>0</td>\n",
       "      <td>0</td>\n",
       "      <td>1</td>\n",
       "      <td>1</td>\n",
       "    </tr>\n",
       "  </tbody>\n",
       "</table>\n",
       "</div>"
      ],
      "text/plain": [
       "    id  age   interests             languages  intent     help_type  \\\n",
       "0    0   25       games     [german, english]       1  market place   \n",
       "57  57   31  literature  [russian, ukrainian]       0  things to do   \n",
       "\n",
       "                matches  english  german  russian  ukrainian  \n",
       "0   [1, 61, 83, 87, 94]        1       1        0          0  \n",
       "57             [73, 82]        0       0        1          1  "
      ]
     },
     "execution_count": 21,
     "metadata": {},
     "output_type": "execute_result"
    }
   ],
   "source": [
    "df.loc[[0,57]]"
   ]
  },
  {
   "cell_type": "code",
   "execution_count": 32,
   "id": "6a0f1699",
   "metadata": {},
   "outputs": [
    {
     "name": "stdout",
     "output_type": "stream",
     "text": [
      "96\n",
      "    age  intent  english  german  russian  ukrainian\n",
      "48   69       1        1       0        0          0\n",
      "6    80       1        1       1        0          1\n",
      "99   97       1        0       1        1          0\n",
      "82   81       1        1       0        1          1\n",
      "76   98       1        0       1        1          0\n",
      "..  ...     ...      ...     ...      ...        ...\n",
      "96   74       0        1       0        1          1\n",
      "67   61       0        0       1        0          1\n",
      "64   72       1        0       1        1          0\n",
      "47   88       0        1       0        0          0\n",
      "44   29       1        1       0        0          0\n",
      "\n",
      "[75 rows x 6 columns]\n",
      "    0   1   2   3   4   5   6   7   8   9   ...  86  87  88  89  90  91  92  \\\n",
      "48   0   0   0   0   0   0   0   0   0   0  ...   0   0   0   0   0   1   0   \n",
      "6    0   0   0   0   0   0   0   0   0   1  ...   0   0   0   1   0   0   0   \n",
      "99   0   0   0   0   0   0   0   0   0   0  ...   0   1   0   0   0   0   0   \n",
      "82   0   0   0   0   1   0   0   0   0   0  ...   0   0   0   0   0   0   0   \n",
      "76   0   0   0   0   0   0   0   0   0   0  ...   0   0   0   0   0   1   0   \n",
      "..  ..  ..  ..  ..  ..  ..  ..  ..  ..  ..  ...  ..  ..  ..  ..  ..  ..  ..   \n",
      "96   0   0   0   0   0   0   0   0   0   0  ...   0   0   0   0   0   0   0   \n",
      "67   0   0   0   0   0   0   0   0   0   0  ...   0   0   0   0   0   0   0   \n",
      "64   0   0   0   0   0   0   0   0   0   0  ...   0   0   0   0   0   1   0   \n",
      "47   0   0   0   0   0   0   0   0   0   0  ...   0   0   0   0   0   0   0   \n",
      "44   0   0   0   0   0   0   0   0   0   0  ...   0   0   0   0   0   0   1   \n",
      "\n",
      "    93  94  95  \n",
      "48   0   0   0  \n",
      "6    0   0   0  \n",
      "99   0   0   0  \n",
      "82   0   0   0  \n",
      "76   0   0   0  \n",
      "..  ..  ..  ..  \n",
      "96   0   0   0  \n",
      "67   0   0   0  \n",
      "64   0   0   0  \n",
      "47   0   1   0  \n",
      "44   0   0   0  \n",
      "\n",
      "[75 rows x 96 columns]\n"
     ]
    }
   ],
   "source": [
    "print(X_train)\n",
    "print(y_train)"
   ]
  }
 ],
 "metadata": {
  "kernelspec": {
   "display_name": "Python 3 (ipykernel)",
   "language": "python",
   "name": "python3"
  },
  "language_info": {
   "codemirror_mode": {
    "name": "ipython",
    "version": 3
   },
   "file_extension": ".py",
   "mimetype": "text/x-python",
   "name": "python",
   "nbconvert_exporter": "python",
   "pygments_lexer": "ipython3",
   "version": "3.9.7"
  }
 },
 "nbformat": 4,
 "nbformat_minor": 5
}
