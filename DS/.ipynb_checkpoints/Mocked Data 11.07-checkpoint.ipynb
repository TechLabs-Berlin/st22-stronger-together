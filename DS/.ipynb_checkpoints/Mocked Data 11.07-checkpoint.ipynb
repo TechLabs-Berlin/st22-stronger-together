{
 "cells": [
  {
   "cell_type": "code",
   "execution_count": 1,
   "id": "d0eedd2d",
   "metadata": {},
   "outputs": [],
   "source": [
    "import pandas as pd\n",
    "import random\n",
    "import numpy as np\n",
    "import pycountry\n",
    "import country_list\n",
    "import matplotlib.pyplot as plt\n",
    "import seaborn as sns\n",
    "import csv\n",
    "from csv import writer\n",
    "from csv import reader\n"
   ]
  },
  {
   "cell_type": "code",
   "execution_count": 2,
   "id": "1cfd92e6",
   "metadata": {},
   "outputs": [
    {
     "ename": "FileNotFoundError",
     "evalue": "[Errno 2] No such file or directory: 'UCI Adult_synthetic.csv'",
     "output_type": "error",
     "traceback": [
      "\u001b[1;31m---------------------------------------------------------------------------\u001b[0m",
      "\u001b[1;31mFileNotFoundError\u001b[0m                         Traceback (most recent call last)",
      "\u001b[1;32m~\\AppData\\Local\\Temp/ipykernel_15984/1890528159.py\u001b[0m in \u001b[0;36m<module>\u001b[1;34m\u001b[0m\n\u001b[0;32m      5\u001b[0m \u001b[1;33m\u001b[0m\u001b[0m\n\u001b[0;32m      6\u001b[0m \u001b[1;31m# Here you add the columns specified before and use a loop to randomize the values given to every row\u001b[0m\u001b[1;33m\u001b[0m\u001b[1;33m\u001b[0m\u001b[0m\n\u001b[1;32m----> 7\u001b[1;33m \u001b[1;32mwith\u001b[0m \u001b[0mopen\u001b[0m\u001b[1;33m(\u001b[0m\u001b[1;34m'UCI Adult_synthetic.csv'\u001b[0m\u001b[1;33m,\u001b[0m \u001b[1;34m'r'\u001b[0m\u001b[1;33m)\u001b[0m \u001b[1;32mas\u001b[0m \u001b[0mread_obj\u001b[0m\u001b[1;33m,\u001b[0m \u001b[0mopen\u001b[0m\u001b[1;33m(\u001b[0m\u001b[1;34m'output_1.csv'\u001b[0m\u001b[1;33m,\u001b[0m \u001b[1;34m'w'\u001b[0m\u001b[1;33m,\u001b[0m \u001b[0mnewline\u001b[0m\u001b[1;33m=\u001b[0m\u001b[1;34m''\u001b[0m\u001b[1;33m)\u001b[0m \u001b[1;32mas\u001b[0m \u001b[0mwrite_obj\u001b[0m\u001b[1;33m:\u001b[0m\u001b[1;33m\u001b[0m\u001b[1;33m\u001b[0m\u001b[0m\n\u001b[0m\u001b[0;32m      8\u001b[0m     \u001b[0mcsv_reader\u001b[0m \u001b[1;33m=\u001b[0m \u001b[0mreader\u001b[0m\u001b[1;33m(\u001b[0m\u001b[0mread_obj\u001b[0m\u001b[1;33m)\u001b[0m\u001b[1;33m\u001b[0m\u001b[1;33m\u001b[0m\u001b[0m\n\u001b[0;32m      9\u001b[0m     \u001b[0mcsv_writer\u001b[0m \u001b[1;33m=\u001b[0m \u001b[0mwriter\u001b[0m\u001b[1;33m(\u001b[0m\u001b[0mwrite_obj\u001b[0m\u001b[1;33m)\u001b[0m\u001b[1;33m\u001b[0m\u001b[1;33m\u001b[0m\u001b[0m\n",
      "\u001b[1;31mFileNotFoundError\u001b[0m: [Errno 2] No such file or directory: 'UCI Adult_synthetic.csv'"
     ]
    }
   ],
   "source": [
    "# To add new columns such as \"interests\", \"language\" and \"looking for\" create first dictionaries\n",
    "Interests = [\"football\", \"basketball\", \"food\", \"music\", \"art\", \"tours\", \"community\", \"languages\", \"games\", \"pets\", \"literature\", \"cooking\", \"coding\"]\n",
    "Language = [\"Ukranian\", \"English\", \"Russian\", \"Belarussian\", \"Arabics\", \"Spanish\", \"Pashto\", \"Dari\", \"Hindi\", \"Bari\", \"Bengali\", \"Tamil\", \"Somali\"]\n",
    "Looking_for = [\"advice\", \"meet people\", \"things to do\", \"hangouts\", \"market place\", \"forum\"]\n",
    "\n",
    "# Here you add the columns specified before and use a loop to randomize the values given to every row\n",
    "with open('UCI Adult_synthetic.csv', 'r') as read_obj, open('output_1.csv', 'w', newline='') as write_obj:\n",
    "    csv_reader = reader(read_obj)\n",
    "    csv_writer = writer(write_obj)\n",
    "    x = 0\n",
    "    for row in csv_reader:\n",
    "        if x == 0:\n",
    "            row.append(\"Interests\")\n",
    "            row.append(\"Looking for\")\n",
    "            row.append(\"Language\")\n",
    "            x += 1\n",
    "        else:\n",
    "            row.append(np.random.choice(Interests))\n",
    "            row.append(np.random.choice(Looking_for))\n",
    "            row.append(np.random.choice(Language))            \n",
    "        csv_writer.writerow(row)\n",
    "\n",
    "\n"
   ]
  },
  {
   "cell_type": "code",
   "execution_count": null,
   "id": "f3d87e6a",
   "metadata": {},
   "outputs": [],
   "source": []
  },
  {
   "cell_type": "code",
   "execution_count": null,
   "id": "9ccb748f",
   "metadata": {},
   "outputs": [],
   "source": []
  },
  {
   "cell_type": "code",
   "execution_count": null,
   "id": "e427472f",
   "metadata": {},
   "outputs": [],
   "source": []
  }
 ],
 "metadata": {
  "kernelspec": {
   "display_name": "Python 3 (ipykernel)",
   "language": "python",
   "name": "python3"
  },
  "language_info": {
   "codemirror_mode": {
    "name": "ipython",
    "version": 3
   },
   "file_extension": ".py",
   "mimetype": "text/x-python",
   "name": "python",
   "nbconvert_exporter": "python",
   "pygments_lexer": "ipython3",
   "version": "3.9.7"
  }
 },
 "nbformat": 4,
 "nbformat_minor": 5
}
